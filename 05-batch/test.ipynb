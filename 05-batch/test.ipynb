{
 "cells": [
  {
   "cell_type": "code",
   "execution_count": 1,
   "metadata": {},
   "outputs": [],
   "source": [
    "# import os\n",
    "\n",
    "# os.environ['JAVA_HOME'] = \"/c/tools/jdk-11.0.21\"\n",
    "# os.environ['PATH'] = f\"{os.environ['JAVA_HOME']}/bin:{os.environ['PATH']}\"\n",
    "\n",
    "# os.environ['HADOOP_HOME'] = \"/c/tools/hadoop-3.2.0\"\n",
    "# os.environ['PATH'] = f\"{os.environ['HADOOP_HOME']}/bin:{os.environ['PATH']}\"\n",
    "\n",
    "# os.environ['SPARK_HOME'] = \"C:/tools/spark-3.3.2-bin-hadoop3\"\n",
    "# os.environ['PATH'] = f\"{os.environ['SPARK_HOME']}/bin:{os.environ['PATH']}\"\n",
    "\n",
    "# # Add PySpark to the PYTHONPATH\n",
    "# os.environ['PYTHONPATH'] = f\"{os.environ['SPARK_HOME']}/python/;{os.environ.get('PYTHONPATH', '')}\"\n",
    "\n",
    "# # Add Py4J to the PYTHONPATH\n",
    "# os.environ['PYTHONPATH'] = f\"{os.environ['SPARK_HOME']}/python/lib/py4j-0.10.9.5-src.zip;{os.environ['PYTHONPATH']}\"\n",
    "# # print(os.environ['PYTHONPATH'])\n",
    "# # C:/tools/spark-3.3.2-bin-hadoop3/python/lib/py4j-0.10.9.5-src.zip;C:/tools/spark-3.3.2-bin-hadoop3/python/;"
   ]
  },
  {
   "cell_type": "code",
   "execution_count": 2,
   "metadata": {},
   "outputs": [],
   "source": [
    "# import os\n",
    "\n",
    "# os.environ['JAVA_HOME'] = \"/c/tools/jdk-11.0.21\"\n",
    "# os.environ['PATH'] = f\"{os.environ['JAVA_HOME']}/bin:{os.environ['PATH']}\"\n",
    "\n",
    "# os.environ['HADOOP_HOME'] = \"/c/tools/hadoop-3.2.0\"\n",
    "# os.environ['PATH'] = f\"{os.environ['HADOOP_HOME']}/bin:{os.environ['PATH']}\"\n",
    "\n",
    "# os.environ['SPARK_HOME'] = \"/c/tools/spark-3.3.2-bin-hadoop3\"\n",
    "# os.environ['PATH'] = f\"{os.environ['SPARK_HOME']}/bin:{os.environ['PATH']}\"\n",
    "\n",
    "# # Add PySpark to the PYTHONPATH\n",
    "# # PYTHONPATH should be /c/tools/spark-3.3.2-bin-hadoop3/python/lib/py4j-0.10.9.5-src.zip\n",
    "# os.environ['PYTHONPATH'] = \"/c/tools/spark-3.3.2-bin-hadoop3/python/lib/py4j-0.10.9.5-src.zip\"\n",
    "# # C:/tools/spark-3.3.2-bin-hadoop3/python/lib/py4j-0.10.9.5-src.zip"
   ]
  },
  {
   "cell_type": "code",
   "execution_count": 3,
   "metadata": {},
   "outputs": [],
   "source": [
    "# print(os.environ['JAVA_HOME'])\n",
    "# print(os.environ['HADOOP_HOME'])\n",
    "# print(os.environ['SPARK_HOME'])\n",
    "# print(os.environ['PYTHONPATH'])"
   ]
  },
  {
   "cell_type": "code",
   "execution_count": 4,
   "metadata": {},
   "outputs": [
    {
     "name": "stdout",
     "output_type": "stream",
     "text": [
      "3.5.0\n"
     ]
    }
   ],
   "source": [
    "import pyspark\n",
    "\n"
   ]
  },
  {
   "cell_type": "code",
   "execution_count": 7,
   "metadata": {},
   "outputs": [
    {
     "data": {
      "text/plain": [
       "'3.5.0'"
      ]
     },
     "execution_count": 7,
     "metadata": {},
     "output_type": "execute_result"
    }
   ],
   "source": [
    "import pyspark\n",
    "from pyspark.sql import SparkSession\n",
    "\n",
    "spark = SparkSession.builder \\\n",
    "    .master(\"local[*]\") \\\n",
    "    .appName('test') \\\n",
    "    .getOrCreate()\n",
    "\n",
    "# Start a new session\n",
    "spark = spark.newSession()\n",
    "\n",
    "df = spark.read \\\n",
    "    .option(\"header\", \"true\") \\\n",
    "    .csv('taxi+_zone_lookup.csv')\n",
    "\n",
    "# df.show()\n",
    "\n",
    "spark.version"
   ]
  },
  {
   "cell_type": "code",
   "execution_count": 6,
   "metadata": {},
   "outputs": [],
   "source": [
    "df.write.parquet('zones', mode=\"overwrite\")"
   ]
  }
 ],
 "metadata": {
  "kernelspec": {
   "display_name": "Python 3",
   "language": "python",
   "name": "python3"
  },
  "language_info": {
   "codemirror_mode": {
    "name": "ipython",
    "version": 3
   },
   "file_extension": ".py",
   "mimetype": "text/x-python",
   "name": "python",
   "nbconvert_exporter": "python",
   "pygments_lexer": "ipython3",
   "version": "3.9.9"
  }
 },
 "nbformat": 4,
 "nbformat_minor": 2
}
