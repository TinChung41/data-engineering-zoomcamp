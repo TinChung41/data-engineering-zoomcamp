{
 "cells": [
  {
   "cell_type": "code",
   "execution_count": 1,
   "id": "00bc6543",
   "metadata": {},
   "outputs": [],
   "source": [
    "import pyspark\n",
    "from pyspark.sql import SparkSession\n",
    "from pyspark.sql import types"
   ]
  },
  {
   "cell_type": "code",
   "execution_count": 2,
   "id": "cd4a0f3d",
   "metadata": {},
   "outputs": [],
   "source": [
    "spark = SparkSession.builder \\\n",
    "    .master(\"local[*]\") \\\n",
    "    .appName('test') \\\n",
    "    .getOrCreate()"
   ]
  },
  {
   "cell_type": "code",
   "execution_count": 4,
   "id": "eb3e4c36",
   "metadata": {},
   "outputs": [
    {
     "data": {
      "text/plain": [
       "'3.3.2'"
      ]
     },
     "execution_count": 4,
     "metadata": {},
     "output_type": "execute_result"
    }
   ],
   "source": [
    "spark.version"
   ]
  },
  {
   "cell_type": "code",
   "execution_count": 3,
   "id": "616a7075",
   "metadata": {},
   "outputs": [],
   "source": [
    "df_fhv = spark.read \\\n",
    "    .option(\"header\", \"true\") \\\n",
    "    .option(\"inferSchema\",\"true\") \\\n",
    "    .csv('fhv_tripdata_2019-10.csv.gz')"
   ]
  },
  {
   "cell_type": "code",
   "execution_count": 5,
   "id": "c05a3ae3",
   "metadata": {},
   "outputs": [
    {
     "data": {
      "text/plain": [
       "StructType([StructField('dispatching_base_num', StringType(), True), StructField('pickup_datetime', TimestampType(), True), StructField('dropOff_datetime', TimestampType(), True), StructField('PUlocationID', IntegerType(), True), StructField('DOlocationID', IntegerType(), True), StructField('SR_Flag', StringType(), True), StructField('Affiliated_base_number', StringType(), True)])"
      ]
     },
     "execution_count": 5,
     "metadata": {},
     "output_type": "execute_result"
    }
   ],
   "source": [
    "df_fhv.schema"
   ]
  },
  {
   "cell_type": "code",
   "execution_count": 6,
   "id": "0a3399a3",
   "metadata": {},
   "outputs": [],
   "source": [
    "# schema =  types.StructType([\n",
    "#     types.StructField('hvfhs_license_num', types.StringType(), True),\n",
    "#     types.StructField('dispatching_base_num', types.StringType(), True),\n",
    "#     types.StructField('pickup_datetime', types.TimestampType(), True),\n",
    "#     types.StructField('dropoff_datetime', types.TimestampType(), True),\n",
    "#     types.StructField('PULocationID', types.IntegerType(), True),\n",
    "#     types.StructField('DOLocationID', types.IntegerType(), True),\n",
    "#     types.StructField('SR_Flag', types.StringType(), True)\n",
    "# ])\n",
    "schema =  types.StructType([\n",
    "    types.StructField('dispatching_base_num', types.StringType(), True), \n",
    "    types.StructField('pickup_datetime', types.TimestampType(), True), \n",
    "    types.StructField('dropOff_datetime', types.TimestampType(), True), \n",
    "    types.StructField('PUlocationID', types.IntegerType(), True), \n",
    "    types.StructField('DOlocationID', types.IntegerType(), True), \n",
    "    types.StructField('SR_Flag', types.StringType(), True), \n",
    "    types.StructField('Affiliated_base_number', types.StringType(), True)])"
   ]
  },
  {
   "cell_type": "code",
   "execution_count": 7,
   "id": "68bc8b72",
   "metadata": {},
   "outputs": [],
   "source": [
    "df_fhv = spark.read \\\n",
    "    .option(\"header\", \"true\") \\\n",
    "    .schema(schema) \\\n",
    "    .csv('fhv_tripdata_2019-10.csv.gz')\n",
    "\n"
   ]
  },
  {
   "cell_type": "code",
   "execution_count": 10,
   "id": "297f6d34",
   "metadata": {},
   "outputs": [],
   "source": [
    "df_fhv = df_fhv.repartition(6)"
   ]
  },
  {
   "cell_type": "code",
   "execution_count": 14,
   "id": "d8294c2b",
   "metadata": {},
   "outputs": [],
   "source": [
    "df_fhv.write.mode('overwrite').parquet(\"E:\\\\Test\\\\data\\\\raw\\\\fhv_tripdata\\\\2019\\\\10\\\\\")"
   ]
  },
  {
   "cell_type": "code",
   "execution_count": 8,
   "id": "58989b55",
   "metadata": {},
   "outputs": [],
   "source": [
    "df = spark.read.parquet('E:\\\\Test\\\\data\\\\raw\\\\fhv_tripdata\\\\2019\\\\10\\\\')"
   ]
  },
  {
   "cell_type": "markdown",
   "id": "48b01d2f",
   "metadata": {},
   "source": [
    "**Q3**: How many taxi trips were there on February 15?"
   ]
  },
  {
   "cell_type": "code",
   "execution_count": 9,
   "id": "f7489aea",
   "metadata": {},
   "outputs": [],
   "source": [
    "from pyspark.sql import functions as F"
   ]
  },
  {
   "cell_type": "code",
   "execution_count": 10,
   "id": "6c2500fd",
   "metadata": {},
   "outputs": [
    {
     "data": {
      "text/plain": [
       "62610"
      ]
     },
     "execution_count": 10,
     "metadata": {},
     "output_type": "execute_result"
    }
   ],
   "source": [
    "df \\\n",
    "    .withColumn('pickup_date', F.to_date(df.pickup_datetime)) \\\n",
    "    .filter(\"pickup_date = '2019-10-15'\") \\\n",
    "    .count()"
   ]
  },
  {
   "cell_type": "code",
   "execution_count": 11,
   "id": "dd7ae60d",
   "metadata": {},
   "outputs": [],
   "source": [
    "df.createOrReplaceTempView('fhvhv_2021_02')"
   ]
  },
  {
   "cell_type": "code",
   "execution_count": 12,
   "id": "6d47c147",
   "metadata": {},
   "outputs": [
    {
     "name": "stdout",
     "output_type": "stream",
     "text": [
      "+--------+\n",
      "|count(1)|\n",
      "+--------+\n",
      "|   62610|\n",
      "+--------+\n",
      "\n"
     ]
    }
   ],
   "source": [
    "spark.sql(\"\"\"\n",
    "SELECT\n",
    "    COUNT(1)\n",
    "FROM \n",
    "    fhvhv_2021_02\n",
    "WHERE\n",
    "    to_date(pickup_datetime) = '2019-10-15';\n",
    "\"\"\").show()"
   ]
  },
  {
   "cell_type": "markdown",
   "id": "ae3f533b",
   "metadata": {},
   "source": [
    "**Q4**: Longest trip for each day"
   ]
  },
  {
   "cell_type": "code",
   "execution_count": 22,
   "id": "7befe422",
   "metadata": {},
   "outputs": [
    {
     "data": {
      "text/plain": [
       "['dispatching_base_num',\n",
       " 'pickup_datetime',\n",
       " 'dropOff_datetime',\n",
       " 'PUlocationID',\n",
       " 'DOlocationID',\n",
       " 'SR_Flag',\n",
       " 'Affiliated_base_number']"
      ]
     },
     "execution_count": 22,
     "metadata": {},
     "output_type": "execute_result"
    }
   ],
   "source": [
    "df.columns"
   ]
  },
  {
   "cell_type": "code",
   "execution_count": 13,
   "id": "279d9161",
   "metadata": {},
   "outputs": [
    {
     "name": "stdout",
     "output_type": "stream",
     "text": [
      "+-----------+------------------+\n",
      "|pickup_date|     max(duration)|\n",
      "+-----------+------------------+\n",
      "| 2019-10-28|          631152.5|\n",
      "| 2019-10-11|          631152.5|\n",
      "| 2019-10-31| 87672.44083333333|\n",
      "| 2019-10-01| 70128.02805555555|\n",
      "| 2019-10-17|            8794.0|\n",
      "| 2019-10-26| 8784.166666666666|\n",
      "| 2019-10-30|1464.5344444444445|\n",
      "| 2019-10-25|1056.8266666666666|\n",
      "| 2019-10-02| 769.2313888888889|\n",
      "| 2019-10-23| 745.6166666666667|\n",
      "| 2019-10-03|          745.3825|\n",
      "| 2019-10-04| 744.6166666666667|\n",
      "| 2019-10-07| 744.1666666666666|\n",
      "| 2019-10-05| 697.1808333333333|\n",
      "| 2019-10-06| 674.0077777777777|\n",
      "+-----------+------------------+\n",
      "\n"
     ]
    }
   ],
   "source": [
    "df \\\n",
    "    .withColumn('duration', (df.dropOff_datetime.cast('long') - df.pickup_datetime.cast('long')) / 3600) \\\n",
    "    .withColumn('pickup_date', F.to_date(df.pickup_datetime)) \\\n",
    "    .groupBy('pickup_date') \\\n",
    "        .max('duration') \\\n",
    "    .orderBy('max(duration)', ascending=False) \\\n",
    "    .limit(15) \\\n",
    "    .show()"
   ]
  },
  {
   "cell_type": "markdown",
   "id": "d915096b",
   "metadata": {},
   "source": [
    "**Q6**: Least frequent `pickup location zone`\n",
    "\n",
    "Using the zone lookup data and the FHV October 2019 data, what is the name of the LEAST frequent pickup location Zone?\n"
   ]
  },
  {
   "cell_type": "code",
   "execution_count": 17,
   "id": "0a23a3eb-04a8-4dba-9385-30fc0655034b",
   "metadata": {},
   "outputs": [],
   "source": [
    "df_zone = spark.read \\\n",
    "    .option(\"header\",\"true\") \\\n",
    "    .option(\"inferSchema\", \"true\")\\\n",
    "    .csv('taxi_zone_lookup.csv')"
   ]
  },
  {
   "cell_type": "code",
   "execution_count": 18,
   "id": "d1bc4cca-55d5-49c3-86fb-46a230346acf",
   "metadata": {},
   "outputs": [
    {
     "data": {
      "text/plain": [
       "StructType([StructField('LocationID', IntegerType(), True), StructField('Borough', StringType(), True), StructField('Zone', StringType(), True), StructField('service_zone', StringType(), True)])"
      ]
     },
     "execution_count": 18,
     "metadata": {},
     "output_type": "execute_result"
    }
   ],
   "source": [
    "df_zone.schema"
   ]
  },
  {
   "cell_type": "code",
   "execution_count": 26,
   "id": "995bca3b-08a0-4893-8d9a-2569a334b49c",
   "metadata": {},
   "outputs": [
    {
     "name": "stdout",
     "output_type": "stream",
     "text": [
      "+--------------------+-------------------+-------------------+------------+------------+-------+----------------------+\n",
      "|dispatching_base_num|    pickup_datetime|   dropOff_datetime|PUlocationID|DOlocationID|SR_Flag|Affiliated_base_number|\n",
      "+--------------------+-------------------+-------------------+------------+------------+-------+----------------------+\n",
      "|              B00310|2019-10-14 16:28:32|2019-10-14 16:32:18|         264|         213|   null|                B03047|\n",
      "|              B00937|2019-10-08 13:14:56|2019-10-08 13:24:40|         264|         243|   null|                B00937|\n",
      "|              B00837|2019-10-18 17:46:11|2019-10-18 23:29:14|         264|         264|   null|                B00837|\n",
      "|              B01730|2019-10-19 21:42:52|2019-10-19 22:04:21|         264|         121|   null|                B02096|\n",
      "|              B00256|2019-10-12 13:51:38|2019-10-12 14:28:14|         264|         264|   null|                B00256|\n",
      "|              B02437|2019-10-04 08:31:17|2019-10-04 09:18:29|         264|         168|   null|                B02437|\n",
      "|              B00037|2019-10-22 08:19:32|2019-10-22 08:21:37|         264|          39|   null|                B00037|\n",
      "|              B00856|2019-10-31 12:37:20|2019-10-31 12:50:01|         264|         188|   null|                B00856|\n",
      "|              B01559|2019-10-02 22:07:18|2019-10-02 22:30:18|         264|         264|   null|                B01559|\n",
      "|              B01626|2019-10-13 14:23:57|2019-10-13 14:26:58|         264|         130|   null|                B01626|\n",
      "|              B01087|2019-10-23 13:09:18|2019-10-23 13:47:09|          68|         138|   null|                B01087|\n",
      "|              B01721|2019-10-03 13:59:23|2019-10-03 14:50:56|         264|         227|   null|                B02800|\n",
      "|              B01626|2019-10-11 12:31:32|2019-10-11 13:27:22|         264|         130|   null|                B01626|\n",
      "|              B01145|2019-10-20 14:33:30|2019-10-20 15:07:19|         264|         247|   null|                B02882|\n",
      "|              B02613|2019-10-16 00:45:29|2019-10-16 00:50:57|         264|          42|   null|                B02613|\n",
      "|              B00277|2019-10-27 19:22:08|2019-10-27 21:07:30|         264|         264|   null|                B00277|\n",
      "|              B00095|2019-10-18 22:57:34|2019-10-18 23:00:50|         264|         198|   null|                B00095|\n",
      "|              B03060|2019-10-22 18:38:10|2019-10-22 18:54:16|         264|          39|   null|                B03060|\n",
      "|              B00756|2019-10-28 08:46:00|2019-10-28 09:44:00|         264|         264|   null|                B02872|\n",
      "|              B01984|2019-10-21 08:15:00|2019-10-21 08:38:00|         264|         227|   null|                B01984|\n",
      "+--------------------+-------------------+-------------------+------------+------------+-------+----------------------+\n",
      "only showing top 20 rows\n",
      "\n"
     ]
    }
   ],
   "source": [
    "df.show()"
   ]
  },
  {
   "cell_type": "code",
   "execution_count": 19,
   "id": "af955dc0-daab-48d4-b002-eec8bb80c5c9",
   "metadata": {},
   "outputs": [
    {
     "name": "stdout",
     "output_type": "stream",
     "text": [
      "+----------+-------------+--------------------+------------+\n",
      "|LocationID|      Borough|                Zone|service_zone|\n",
      "+----------+-------------+--------------------+------------+\n",
      "|         1|          EWR|      Newark Airport|         EWR|\n",
      "|         2|       Queens|         Jamaica Bay|   Boro Zone|\n",
      "|         3|        Bronx|Allerton/Pelham G...|   Boro Zone|\n",
      "|         4|    Manhattan|       Alphabet City| Yellow Zone|\n",
      "|         5|Staten Island|       Arden Heights|   Boro Zone|\n",
      "|         6|Staten Island|Arrochar/Fort Wad...|   Boro Zone|\n",
      "|         7|       Queens|             Astoria|   Boro Zone|\n",
      "|         8|       Queens|        Astoria Park|   Boro Zone|\n",
      "|         9|       Queens|          Auburndale|   Boro Zone|\n",
      "|        10|       Queens|        Baisley Park|   Boro Zone|\n",
      "|        11|     Brooklyn|          Bath Beach|   Boro Zone|\n",
      "|        12|    Manhattan|        Battery Park| Yellow Zone|\n",
      "|        13|    Manhattan|   Battery Park City| Yellow Zone|\n",
      "|        14|     Brooklyn|           Bay Ridge|   Boro Zone|\n",
      "|        15|       Queens|Bay Terrace/Fort ...|   Boro Zone|\n",
      "|        16|       Queens|             Bayside|   Boro Zone|\n",
      "|        17|     Brooklyn|             Bedford|   Boro Zone|\n",
      "|        18|        Bronx|        Bedford Park|   Boro Zone|\n",
      "|        19|       Queens|           Bellerose|   Boro Zone|\n",
      "|        20|        Bronx|             Belmont|   Boro Zone|\n",
      "+----------+-------------+--------------------+------------+\n",
      "only showing top 20 rows\n",
      "\n"
     ]
    }
   ],
   "source": [
    "df_zone.show()"
   ]
  },
  {
   "cell_type": "code",
   "execution_count": 25,
   "id": "0a35c353-397d-4688-b597-bb5928e0846e",
   "metadata": {},
   "outputs": [
    {
     "name": "stderr",
     "output_type": "stream",
     "text": [
      "C:\\tools\\spark-3.3.2-bin-hadoop3\\python\\pyspark\\sql\\dataframe.py:229: FutureWarning: Deprecated in 2.0, use createOrReplaceTempView instead.\n",
      "  warnings.warn(\"Deprecated in 2.0, use createOrReplaceTempView instead.\", FutureWarning)\n"
     ]
    }
   ],
   "source": [
    "df_zone.registerTempTable('zones')"
   ]
  },
  {
   "cell_type": "code",
   "execution_count": 28,
   "id": "3d75e606-8d25-4d18-962e-32637db71640",
   "metadata": {},
   "outputs": [],
   "source": [
    "zones = spark.sql( \"\"\"\n",
    "    SELECT * \n",
    "    FROM zones\n",
    "\"\"\")"
   ]
  },
  {
   "cell_type": "code",
   "execution_count": 32,
   "id": "94521ba1-a912-4f1e-9ece-7ff1b9553e80",
   "metadata": {},
   "outputs": [],
   "source": [
    "results = df.join(zones, df.PUlocationID == zones.LocationID )\n",
    "results.registerTempTable('results')"
   ]
  },
  {
   "cell_type": "code",
   "execution_count": 33,
   "id": "2e67c380-e05f-4da8-973c-84f8d98da72d",
   "metadata": {},
   "outputs": [
    {
     "name": "stdout",
     "output_type": "stream",
     "text": [
      "+--------------------+------------+\n",
      "|                zone|PICKUP_COUNT|\n",
      "+--------------------+------------+\n",
      "|         Jamaica Bay|           1|\n",
      "|Governor's Island...|           2|\n",
      "| Green-Wood Cemetery|           5|\n",
      "|       Broad Channel|           8|\n",
      "|     Highbridge Park|          14|\n",
      "+--------------------+------------+\n",
      "\n"
     ]
    }
   ],
   "source": [
    "#zone where count()\n",
    "spark.sql(\"\"\"\n",
    "    SELECT zone, COUNT(PUlocationID) AS PICKUP_COUNT\n",
    "    FROM results\n",
    "    GROUP BY 1 \n",
    "    ORDER BY 2 ASC\n",
    "    LIMIT 5;\n",
    "\"\"\").show()"
   ]
  }
 ],
 "metadata": {
  "kernelspec": {
   "display_name": "Python 3 (ipykernel)",
   "language": "python",
   "name": "python3"
  },
  "language_info": {
   "codemirror_mode": {
    "name": "ipython",
    "version": 3
   },
   "file_extension": ".py",
   "mimetype": "text/x-python",
   "name": "python",
   "nbconvert_exporter": "python",
   "pygments_lexer": "ipython3",
   "version": "3.9.9"
  }
 },
 "nbformat": 4,
 "nbformat_minor": 5
}
