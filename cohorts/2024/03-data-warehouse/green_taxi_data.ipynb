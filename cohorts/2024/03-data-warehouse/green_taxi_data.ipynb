{
 "cells": [
  {
   "cell_type": "code",
   "execution_count": 19,
   "metadata": {},
   "outputs": [
    {
     "name": "stdout",
     "output_type": "stream",
     "text": [
      "   VendorID lpep_pickup_datetime lpep_dropoff_datetime store_and_fwd_flag  \\\n",
      "0         2  2022-01-01 00:14:21   2022-01-01 00:15:33                  N   \n",
      "1         1  2022-01-01 00:20:55   2022-01-01 00:29:38                  N   \n",
      "2         1  2022-01-01 00:57:02   2022-01-01 01:13:14                  N   \n",
      "3         2  2022-01-01 00:07:42   2022-01-01 00:15:57                  N   \n",
      "4         2  2022-01-01 00:07:50   2022-01-01 00:28:52                  N   \n",
      "\n",
      "   RatecodeID  PULocationID  DOLocationID  passenger_count  trip_distance  \\\n",
      "0         1.0            42            42              1.0           0.44   \n",
      "1         1.0           116            41              1.0           2.10   \n",
      "2         1.0            41           140              1.0           3.70   \n",
      "3         1.0           181           181              1.0           1.69   \n",
      "4         1.0            33           170              1.0           6.26   \n",
      "\n",
      "   fare_amount  extra  mta_tax  tip_amount  tolls_amount ehail_fee  \\\n",
      "0          3.5   0.50      0.5        0.00           0.0      None   \n",
      "1          9.5   0.50      0.5        0.00           0.0      None   \n",
      "2         14.5   3.25      0.5        4.60           0.0      None   \n",
      "3          8.0   0.50      0.5        0.00           0.0      None   \n",
      "4         22.0   0.50      0.5        5.21           0.0      None   \n",
      "\n",
      "   improvement_surcharge  total_amount  payment_type  trip_type  \\\n",
      "0                    0.3          4.80           2.0        1.0   \n",
      "1                    0.3         10.80           2.0        1.0   \n",
      "2                    0.3         23.15           1.0        1.0   \n",
      "3                    0.3          9.30           2.0        1.0   \n",
      "4                    0.3         31.26           1.0        1.0   \n",
      "\n",
      "   congestion_surcharge  \n",
      "0                  0.00  \n",
      "1                  0.00  \n",
      "2                  2.75  \n",
      "3                  0.00  \n",
      "4                  2.75  \n"
     ]
    }
   ],
   "source": [
    "import pandas as pd\n",
    "\n",
    "# Load parquet file\n",
    "df = pd.read_parquet(r'D:\\GitHub Project\\data-engineering-zoomcamp\\cohorts\\2024\\03-data-warehouse\\green_tripdata_2022-01.parquet')\n",
    "\n",
    "# Print the dataframe\n",
    "print(df.head())\n",
    "\n",
    "\n"
   ]
  },
  {
   "cell_type": "code",
   "execution_count": 12,
   "metadata": {},
   "outputs": [
    {
     "name": "stdout",
     "output_type": "stream",
     "text": [
      "Index(['VendorID', 'lpep_pickup_datetime', 'lpep_dropoff_datetime',\n",
      "       'store_and_fwd_flag', 'RatecodeID', 'PULocationID', 'DOLocationID',\n",
      "       'passenger_count', 'trip_distance', 'fare_amount', 'extra', 'mta_tax',\n",
      "       'tip_amount', 'tolls_amount', 'ehail_fee', 'improvement_surcharge',\n",
      "       'total_amount', 'payment_type', 'trip_type', 'congestion_surcharge'],\n",
      "      dtype='object')\n",
      "20\n"
     ]
    }
   ],
   "source": [
    "# Print the dataframe\n",
    "print(df.columns)\n",
    "print(len(df.columns))"
   ]
  },
  {
   "cell_type": "code",
   "execution_count": 8,
   "metadata": {},
   "outputs": [
    {
     "name": "stdout",
     "output_type": "stream",
     "text": [
      "Index(['VendorID', 'passenger_count', 'trip_distance', 'RatecodeID',\n",
      "       'store_and_fwd_flag', 'PULocationID', 'DOLocationID', 'payment_type',\n",
      "       'fare_amount', 'extra', 'mta_tax', 'tip_amount', 'tolls_amount',\n",
      "       'improvement_surcharge', 'total_amount', 'congestion_surcharge'],\n",
      "      dtype='object')\n",
      "16\n"
     ]
    }
   ],
   "source": [
    "import pandas as pd\n",
    "\n",
    "# Load parquet file\n",
    "df = pd.read_parquet(r'D:\\GitHub Project\\data-engineering-zoomcamp\\cohorts\\2024\\03-data-warehouse\\hw3_green_taxi_data_2022.parquet')\n",
    "\n",
    "# Print the dataframe\n",
    "print(df.columns)\n",
    "print(len(df.columns))\n",
    "\n",
    "\n"
   ]
  },
  {
   "cell_type": "markdown",
   "metadata": {},
   "source": [
    "## Check Datavalue on GCS bucket"
   ]
  },
  {
   "cell_type": "code",
   "execution_count": 24,
   "metadata": {},
   "outputs": [
    {
     "name": "stdout",
     "output_type": "stream",
     "text": [
      "Empty DataFrame\n",
      "Columns: [VendorID, lpep_pickup_datetime, lpep_dropoff_datetime, store_and_fwd_flag, RatecodeID, PULocationID, DOLocationID, passenger_count, trip_distance, fare_amount, extra, mta_tax, tip_amount, tolls_amount, ehail_fee, improvement_surcharge, total_amount, payment_type, trip_type, congestion_surcharge]\n",
      "Index: []\n"
     ]
    }
   ],
   "source": [
    "# Load parquet file\n",
    "df = pd.read_parquet(r'D:\\GitHub Project\\data-engineering-zoomcamp\\cohorts\\2024\\03-data-warehouse\\hw3_green_taxi_data_2022_with_date.parquet')\n",
    "\n",
    "# Print the dataframe\n",
    "# print(df.head())\n",
    "print(df[df.lpep_pickup_datetime == 1640996061000000000 ])\n"
   ]
  }
 ],
 "metadata": {
  "kernelspec": {
   "display_name": "Python 3",
   "language": "python",
   "name": "python3"
  },
  "language_info": {
   "codemirror_mode": {
    "name": "ipython",
    "version": 3
   },
   "file_extension": ".py",
   "mimetype": "text/x-python",
   "name": "python",
   "nbconvert_exporter": "python",
   "pygments_lexer": "ipython3",
   "version": "3.9.9"
  }
 },
 "nbformat": 4,
 "nbformat_minor": 2
}
